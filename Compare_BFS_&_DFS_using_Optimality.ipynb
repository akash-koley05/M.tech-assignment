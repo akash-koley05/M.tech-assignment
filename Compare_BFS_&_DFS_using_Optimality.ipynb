{
  "nbformat": 4,
  "nbformat_minor": 0,
  "metadata": {
    "colab": {
      "provenance": [],
      "authorship_tag": "ABX9TyNV1dDJd8vFs+Skp64t3kw5",
      "include_colab_link": true
    },
    "kernelspec": {
      "name": "python3",
      "display_name": "Python 3"
    },
    "language_info": {
      "name": "python"
    }
  },
  "cells": [
    {
      "cell_type": "markdown",
      "metadata": {
        "id": "view-in-github",
        "colab_type": "text"
      },
      "source": [
        "<a href=\"https://colab.research.google.com/github/akash-koley05/M.tech-assignment/blob/main/Compare_BFS_%26_DFS_using_Optimality.ipynb\" target=\"_parent\"><img src=\"https://colab.research.google.com/assets/colab-badge.svg\" alt=\"Open In Colab\"/></a>"
      ]
    },
    {
      "cell_type": "code",
      "execution_count": null,
      "metadata": {
        "id": "PpIsjNcwZ_UV"
      },
      "outputs": [],
      "source": []
    },
    {
      "cell_type": "markdown",
      "source": [
        "# ***Optimality:***\n",
        "\n",
        "**BFS (Breadth-First Search):** BFS is optimal in finding the shortest path in an unweighted graph. This means if all edge weights are equal (or effectively, there are no weights), BFS guarantees finding a path with the fewest number of edges from a source node to a target node. It explores nodes level by level, ensuring that it discovers all nodes at a given distance from the source before moving to nodes further away.\n",
        "\n",
        "**DFS (Depth-First Search):** DFS is not optimal for finding shortest paths in general. It explores as far as possible along each branch before backtracking. This can lead to finding a long path to a target node even if a shorter path exists, especially in graphs with many branches.\n",
        "\n",
        "\n",
        "\n"
      ],
      "metadata": {
        "id": "9nwrWzL3bTpn"
      }
    },
    {
      "cell_type": "code",
      "source": [
        "from collections import deque\n",
        "\n",
        "def bfs(graph, start_node, target_node):\n",
        "    visited = set()\n",
        "    queue = deque([(start_node, [start_node])])\n",
        "\n",
        "    while queue:\n",
        "        current_node, path = queue.popleft()\n",
        "\n",
        "        if current_node == target_node:\n",
        "            return path\n",
        "\n",
        "        if current_node not in visited:\n",
        "            visited.add(current_node)\n",
        "            for neighbor in graph.get(current_node, []):\n",
        "                if neighbor not in visited:\n",
        "                    new_path = path + [neighbor]\n",
        "                    queue.append((neighbor, new_path))\n",
        "    return None\n",
        "\n",
        "\n",
        "graph_bfs = {\n",
        "    'A': ['B', 'C'],\n",
        "    'B': ['D', 'E'],\n",
        "    'C': ['F'],\n",
        "    'D': [],\n",
        "    'E': ['F'],\n",
        "    'F': []\n",
        "}\n",
        "shortest_path_bfs = bfs(graph_bfs, 'A', 'F')\n",
        "print(f\"BFS shortest path from A to F: {shortest_path_bfs}\")"
      ],
      "metadata": {
        "colab": {
          "base_uri": "https://localhost:8080/"
        },
        "id": "19Ap3wFtaA14",
        "outputId": "924a07d6-d2b4-403c-9074-50c60eb6dc43"
      },
      "execution_count": 2,
      "outputs": [
        {
          "output_type": "stream",
          "name": "stdout",
          "text": [
            "BFS shortest path from A to F: ['A', 'C', 'F']\n"
          ]
        }
      ]
    },
    {
      "cell_type": "code",
      "source": [
        "def dfs(graph, start_node, target_node, visited=None, path=None):\n",
        "    if visited is None:\n",
        "        visited = set()\n",
        "    if path is None:\n",
        "        path = []\n",
        "\n",
        "    path = path + [start_node]\n",
        "    visited.add(start_node)\n",
        "\n",
        "    if start_node == target_node:\n",
        "        return path\n",
        "\n",
        "    for neighbor in graph.get(start_node, []):\n",
        "        if neighbor not in visited:\n",
        "            result = dfs(graph, neighbor, target_node, visited, path)\n",
        "            if result:\n",
        "                return result\n",
        "    return None\n",
        "\n",
        "\n",
        "graph_dfs = {\n",
        "    'A': ['B', 'C'],\n",
        "    'B': ['D', 'E'],\n",
        "    'C': ['F'],\n",
        "    'D': [],\n",
        "    'E': ['F'],\n",
        "    'F': []\n",
        "}\n",
        "path_dfs = dfs(graph_dfs, 'A', 'F')\n",
        "print(f\"DFS path from A to F: {path_dfs}\")"
      ],
      "metadata": {
        "colab": {
          "base_uri": "https://localhost:8080/"
        },
        "id": "xK8KAjc4a5dy",
        "outputId": "2640d098-4d74-49f1-ab47-c694544cac31"
      },
      "execution_count": 4,
      "outputs": [
        {
          "output_type": "stream",
          "name": "stdout",
          "text": [
            "DFS path from A to F: ['A', 'B', 'E', 'F']\n"
          ]
        }
      ]
    }
  ]
}