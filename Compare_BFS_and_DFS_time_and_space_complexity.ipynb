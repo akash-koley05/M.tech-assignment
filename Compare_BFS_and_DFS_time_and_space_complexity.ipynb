{
  "nbformat": 4,
  "nbformat_minor": 0,
  "metadata": {
    "colab": {
      "provenance": [],
      "authorship_tag": "ABX9TyMo3iOqCOPaWgkQi7JE+6Pb",
      "include_colab_link": true
    },
    "kernelspec": {
      "name": "python3",
      "display_name": "Python 3"
    },
    "language_info": {
      "name": "python"
    }
  },
  "cells": [
    {
      "cell_type": "markdown",
      "metadata": {
        "id": "view-in-github",
        "colab_type": "text"
      },
      "source": [
        "<a href=\"https://colab.research.google.com/github/akash-koley05/M.tech-assignment/blob/main/Compare_BFS_and_DFS_time_and_space_complexity.ipynb\" target=\"_parent\"><img src=\"https://colab.research.google.com/assets/colab-badge.svg\" alt=\"Open In Colab\"/></a>"
      ]
    },
    {
      "cell_type": "code",
      "execution_count": null,
      "metadata": {
        "id": "k1oiWj0HYB-i"
      },
      "outputs": [],
      "source": []
    },
    {
      "cell_type": "markdown",
      "source": [
        "# 1. Time Complexity\n",
        "\n",
        "**BFS (Breadth-First Search):**\n",
        "\n",
        "\n",
        "**Time Complexity:O(V + E), where:**\n",
        "\n",
        ">V is the number of vertices (nodes).\n",
        "\n",
        ">E is the number of edges.\n",
        "\n",
        "**Why?**\n",
        "\n",
        ">BFS visits each vertex once.\n",
        "\n",
        ">It checks each edge once as it traverses adjacent vertices.\n",
        "\n",
        ">So, it processes each vertex and edge exactly once, resulting in O(V + E) time complexity.\n",
        "\n",
        "**DFS (Depth-First Search):**\n",
        "\n",
        "**Time Complexity: O(V + E) (same as BFS).\n",
        "Why?**\n",
        "\n",
        ">Like BFS, DFS also visits each vertex once and processes each edge once.\n",
        "\n",
        ">Whether recursive or iterative, DFS has to explore every edge to ensure it has visited all vertices, resulting in O(V + E).\n",
        "\n",
        "**Summary:**\n",
        "\n",
        ">Algorithm\tTime Complexity\n",
        "\n",
        ">BFS\n",
        "𝑂(𝑉+𝐸)O(V+E)\n",
        "\n",
        ">DFS\n",
        "𝑂(𝑉+𝐸)O(V+E)\n",
        "\n",
        "# 2. Space Complexity\n",
        "\n",
        "**BFS (Breadth-First Search):**\n",
        "\n",
        "**Space Complexity: O(V) (worst case).**\n",
        "\n",
        "**Why?**\n",
        "\n",
        ">BFS uses a queue to keep track of the current level of vertices and explore their neighbors.\n",
        "\n",
        ">In the worst case (in a densely connected graph), the queue may store all the vertices at the current depth level, which could be up to O(V).\n",
        "\n",
        ">Additionally, BFS uses a visited set (or array), which takes up O(V) space.\n",
        "\n",
        "**DFS (Depth-First Search):**\n",
        "\n",
        ">Space Complexity (depends on the implementation):\n",
        "\n",
        ">Recursive DFS: O(V) (due to recursion stack).\n",
        "\n",
        ">Iterative DFS: O(V) (due to the explicit stack).\n",
        "\n",
        "**Why?**\n",
        "\n",
        ">In the worst case, DFS may explore the entire depth of the graph (a path of maximum length, such as a single long chain of vertices).\n",
        "\n",
        ">This would result in a recursion stack (in the recursive version) or an explicit stack (in the iterative version) of size O(V).\n",
        "\n",
        ">Like BFS, DFS also uses a visited set or array, which takes up O(V) space.\n",
        "\n",
        "# 3. Key Differences between BFS and DFS\n",
        "\n",
        "**Traversal Method:**\n",
        "\n",
        ">BFS explores nodes level by level (i.e., breadth-first).\n",
        "\n",
        ">DFS explores nodes as deep as possible before backtracking (i.e., depth-first).\n",
        "\n",
        "**Space Complexity Usage:**\n",
        "\n",
        ">BFS can consume more memory if the graph is wide, since all nodes at the current level are stored in the queue.\n",
        "\n",
        ">DFS may consume more memory if the graph is deep, due to the stack space used for backtracking (either recursion stack or explicit stack).\n",
        "\n",
        "**Pathfinding:**\n",
        "\n",
        ">BFS guarantees the shortest path in an unweighted graph, since it explores all nodes at the current depth before moving deeper.\n",
        "\n",
        ">DFS does not guarantee the shortest path and might explore far-off nodes first before backtracking."
      ],
      "metadata": {
        "id": "VCeYh31-9Rsl"
      }
    },
    {
      "cell_type": "code",
      "source": [],
      "metadata": {
        "id": "OXbY8RwuYWsS"
      },
      "execution_count": null,
      "outputs": []
    },
    {
      "cell_type": "code",
      "source": [
        "from collections import deque\n",
        "\n",
        "def bfs(graph, start):\n",
        "    visited = set()\n",
        "    queue = deque([start])\n",
        "    visited.add(start)\n",
        "\n",
        "    operations = 0\n",
        "    max_queue_size = 0\n",
        "\n",
        "    while queue:\n",
        "        node = queue.popleft()\n",
        "        operations += 1\n",
        "        max_queue_size = max(max_queue_size, len(queue))\n",
        "\n",
        "        for neighbor in graph[node]:\n",
        "            operations += 1\n",
        "            if neighbor not in visited:\n",
        "                queue.append(neighbor)\n",
        "                visited.add(neighbor)\n",
        "\n",
        "    print(f\"BFS completed in {operations} operations.\")\n",
        "    print(f\"Maximum queue size during BFS: {max_queue_size}\")\n",
        "    return operations, max_queue_size\n",
        "\n",
        "\n",
        "graph = {\n",
        "    'A': ['B', 'C'],\n",
        "    'B': ['A', 'D', 'E'],\n",
        "    'C': ['A', 'F', 'G'],\n",
        "    'D': ['B'],\n",
        "    'E': ['B', 'H'],\n",
        "    'F': ['C'],\n",
        "    'G': ['C'],\n",
        "    'H': ['E']\n",
        "}\n",
        "\n",
        "bfs(graph, 'A')\n"
      ],
      "metadata": {
        "colab": {
          "base_uri": "https://localhost:8080/"
        },
        "id": "_DRXPJbMA8TN",
        "outputId": "567a9df1-4912-432b-d2f2-390894223655"
      },
      "execution_count": 1,
      "outputs": [
        {
          "output_type": "stream",
          "name": "stdout",
          "text": [
            "BFS completed in 22 operations.\n",
            "Maximum queue size during BFS: 3\n"
          ]
        },
        {
          "output_type": "execute_result",
          "data": {
            "text/plain": [
              "(22, 3)"
            ]
          },
          "metadata": {},
          "execution_count": 1
        }
      ]
    },
    {
      "cell_type": "code",
      "source": [
        "def dfs_recursive(graph, node, visited=None, operations=0, depth=0, max_depth=0):\n",
        "    if visited is None:\n",
        "        visited = set()\n",
        "\n",
        "    visited.add(node)\n",
        "    operations += 1\n",
        "    max_depth = max(max_depth, depth)\n",
        "\n",
        "    for neighbor in graph[node]:\n",
        "        operations += 1\n",
        "        if neighbor not in visited:\n",
        "            operations, max_depth = dfs_recursive(graph, neighbor, visited, operations, depth + 1, max_depth)\n",
        "\n",
        "    return operations, max_depth\n",
        "\n",
        "\n",
        "operations, max_depth = dfs_recursive(graph, 'A')\n",
        "print(f\"DFS (recursive) completed in {operations} operations.\")\n",
        "print(f\"Maximum recursion depth during DFS: {max_depth}\")\n"
      ],
      "metadata": {
        "colab": {
          "base_uri": "https://localhost:8080/"
        },
        "id": "-GsX3jrjBOz1",
        "outputId": "9a2e7267-cd18-4500-9adf-d16530ee89b1"
      },
      "execution_count": 2,
      "outputs": [
        {
          "output_type": "stream",
          "name": "stdout",
          "text": [
            "DFS (recursive) completed in 22 operations.\n",
            "Maximum recursion depth during DFS: 3\n"
          ]
        }
      ]
    }
  ]
}