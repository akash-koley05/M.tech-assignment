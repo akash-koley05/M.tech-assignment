{
  "nbformat": 4,
  "nbformat_minor": 0,
  "metadata": {
    "colab": {
      "provenance": [],
      "authorship_tag": "ABX9TyNPKHw4mvcKJhHil/PZPpZg",
      "include_colab_link": true
    },
    "kernelspec": {
      "name": "python3",
      "display_name": "Python 3"
    },
    "language_info": {
      "name": "python"
    }
  },
  "cells": [
    {
      "cell_type": "markdown",
      "metadata": {
        "id": "view-in-github",
        "colab_type": "text"
      },
      "source": [
        "<a href=\"https://colab.research.google.com/github/akash-koley05/M.tech-assignment/blob/main/Compare_BFS_%26_DFS_using_Completeness.ipynb\" target=\"_parent\"><img src=\"https://colab.research.google.com/assets/colab-badge.svg\" alt=\"Open In Colab\"/></a>"
      ]
    },
    {
      "cell_type": "code",
      "source": [],
      "metadata": {
        "id": "7Wbd5T3zdUn-"
      },
      "execution_count": null,
      "outputs": []
    },
    {
      "cell_type": "markdown",
      "source": [
        "# ***BFS and DFS Completeness with Code***\n",
        "\n",
        "**Breadth-First Search (BFS)**:BFS is complete. If a solution exists, BFS will always find it. This is because it explores the search space level by level, ensuring that it will eventually reach any reachable goal node. In unweighted graphs, it also guarantees finding the shortest path.\n",
        "\n",
        "**Depth-First Search (DFS)**:DFS is complete if the search space is finite and does not contain infinite paths or cycles that could lead to infinite loops. In cases with infinite paths or cycles, DFS might get \"stuck\" exploring a deep path and never find a solution even if a shallower one exists."
      ],
      "metadata": {
        "id": "0mEl-dAydU5O"
      }
    },
    {
      "cell_type": "code",
      "source": [
        "from collections import deque\n",
        "\n",
        "def bfs(graph, start_node, target_node):\n",
        "    visited = set()\n",
        "    queue = deque([(start_node, [start_node])])\n",
        "\n",
        "    while queue:\n",
        "        current_node, path = queue.popleft()\n",
        "\n",
        "        if current_node == target_node:\n",
        "            return path\n",
        "\n",
        "        if current_node not in visited:\n",
        "            visited.add(current_node)\n",
        "            for neighbor in graph.get(current_node, []):\n",
        "                if neighbor not in visited:\n",
        "                    queue.append((neighbor, path + [neighbor]))\n",
        "    return None\n",
        "\n",
        "\n",
        "graph_bfs = {\n",
        "    'A': ['B', 'C'],\n",
        "    'B': ['D', 'E'],\n",
        "    'C': ['F'],\n",
        "    'D': [],\n",
        "    'E': ['F'],\n",
        "    'F': []\n",
        "}\n",
        "print(f\"BFS Path from A to F: {bfs(graph_bfs, 'A', 'F')}\")\n",
        "print(f\"BFS Path from A to Z: {bfs(graph_bfs, 'A', 'Z')}\")"
      ],
      "metadata": {
        "colab": {
          "base_uri": "https://localhost:8080/"
        },
        "id": "dx9g2Gv9eGiB",
        "outputId": "343f6d29-42c8-4c96-add0-d20f5c218792"
      },
      "execution_count": 6,
      "outputs": [
        {
          "output_type": "stream",
          "name": "stdout",
          "text": [
            "BFS Path from A to F: ['A', 'C', 'F']\n",
            "BFS Path from A to Z: None\n"
          ]
        }
      ]
    },
    {
      "cell_type": "code",
      "source": [
        "def dfs(graph, start_node, target_node):\n",
        "    visited = set()\n",
        "    stack = [(start_node, [start_node])]\n",
        "\n",
        "    while stack:\n",
        "        current_node, path = stack.pop()\n",
        "\n",
        "        if current_node == target_node:\n",
        "            return path\n",
        "\n",
        "        if current_node not in visited:\n",
        "            visited.add(current_node)\n",
        "            for neighbor in reversed(graph.get(current_node, [])):\n",
        "                if neighbor not in visited:\n",
        "                    stack.append((neighbor, path + [neighbor]))\n",
        "    return None\n",
        "\n",
        "\n",
        "graph_dfs = {\n",
        "    'A': ['B', 'C'],\n",
        "    'B': ['D', 'E'],\n",
        "    'C': ['F'],\n",
        "    'D': [],\n",
        "    'E': ['F'],\n",
        "    'F': []\n",
        "}\n",
        "print(f\"DFS Path from A to F: {dfs(graph_dfs, 'A', 'F')}\")\n",
        "print(f\"DFS Path from A to Z: {dfs(graph_dfs, 'A', 'Z')}\")"
      ],
      "metadata": {
        "colab": {
          "base_uri": "https://localhost:8080/"
        },
        "id": "nFhuxGSleJUo",
        "outputId": "5bf30c8e-30d2-4296-e5cc-02a539a567dd"
      },
      "execution_count": 5,
      "outputs": [
        {
          "output_type": "stream",
          "name": "stdout",
          "text": [
            "DFS Path from A to F: ['A', 'B', 'E', 'F']\n",
            "DFS Path from A to Z: None\n"
          ]
        }
      ]
    }
  ]
}