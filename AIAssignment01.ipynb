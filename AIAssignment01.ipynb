{
  "nbformat": 4,
  "nbformat_minor": 0,
  "metadata": {
    "colab": {
      "provenance": [],
      "include_colab_link": true
    },
    "kernelspec": {
      "name": "python3",
      "display_name": "Python 3"
    },
    "language_info": {
      "name": "python"
    }
  },
  "cells": [
    {
      "cell_type": "markdown",
      "metadata": {
        "id": "view-in-github",
        "colab_type": "text"
      },
      "source": [
        "<a href=\"https://colab.research.google.com/github/akash-koley05/M.tech-assignment/blob/main/AIAssignment01.ipynb\" target=\"_parent\"><img src=\"https://colab.research.google.com/assets/colab-badge.svg\" alt=\"Open In Colab\"/></a>"
      ]
    },
    {
      "cell_type": "code",
      "source": [
        "def is_safe(board, row, col, n):\n",
        "\n",
        "    for i in range(row):\n",
        "        if board[i][col] == 1:\n",
        "            return False\n",
        "\n",
        "    i, j = row - 1, col - 1\n",
        "    while i >= 0 and j >= 0:\n",
        "        if board[i][j] == 1:\n",
        "            return False\n",
        "        i -= 1\n",
        "        j -= 1\n",
        "\n",
        "    i, j = row - 1, col + 1\n",
        "    while i >= 0 and j < n:\n",
        "        if board[i][j] == 1:\n",
        "            return False\n",
        "        i -= 1\n",
        "        j += 1\n",
        "\n",
        "    return True\n",
        "\n",
        "\n",
        "def solve(board, row, n):\n",
        "    if row == n:\n",
        "        return [\"\".join(\"Q\" if cell else \".\" for cell in r) for r in board]\n",
        "\n",
        "    for col in range(n):\n",
        "        if is_safe(board, row, col, n):\n",
        "            board[row][col] = 1\n",
        "            solution = solve(board, row + 1, n)\n",
        "            if solution:\n",
        "                return solution\n",
        "            board[row][col] = 0\n",
        "\n",
        "    return None\n",
        "\n",
        "\n",
        "def n_queens():\n",
        "    n = 8\n",
        "    board = [[0] * n for _ in range(n)]\n",
        "    return solve(board, 0, n)\n",
        "\n",
        "\n",
        "if __name__ == \"__main__\":\n",
        "    solution = n_queens()\n",
        "    if solution:\n",
        "        print(\"One valid solution for 9-Queens:\\n\")\n",
        "        for row in solution:\n",
        "            print(row)\n",
        "    else:\n",
        "        print(\"No solution exists\")\n"
      ],
      "metadata": {
        "colab": {
          "base_uri": "https://localhost:8080/"
        },
        "id": "4ul860_rTiFQ",
        "outputId": "e8b08d05-0509-434c-d583-3e5a572d4d3c"
      },
      "execution_count": null,
      "outputs": [
        {
          "output_type": "stream",
          "name": "stdout",
          "text": [
            "One valid solution for 9-Queens:\n",
            "\n",
            "Q.......\n",
            "....Q...\n",
            ".......Q\n",
            ".....Q..\n",
            "..Q.....\n",
            "......Q.\n",
            ".Q......\n",
            "...Q....\n"
          ]
        }
      ]
    },
    {
      "cell_type": "code",
      "source": [
        "def is_safe(v, graph, color, c):\n",
        "    for i in range(len(graph)):\n",
        "        if graph[v][i] == 1 and color[i] == c:\n",
        "            return False\n",
        "    return True\n",
        "\n",
        "def graph_coloring_util(graph, m, color, v):\n",
        "    if v == len(graph):\n",
        "        return True\n",
        "\n",
        "    for c in range(1, m + 1):\n",
        "        if is_safe(v, graph, color, c):\n",
        "            color[v] = c\n",
        "            if graph_coloring_util(graph, m, color, v + 1):\n",
        "                return True\n",
        "            color[v] = 0\n",
        "    return False\n",
        "\n",
        "def graph_coloring_backtracking(graph, m):\n",
        "    V = len(graph)\n",
        "    color = [0] * V\n",
        "    if not graph_coloring_util(graph, m, color, 0):\n",
        "        print(\"Solution does not exist with\", m, \"colors.\")\n",
        "        return False\n",
        "\n",
        "    print(\"Solution exists with\", m, \"colors. The colors assigned are:\")\n",
        "    for i, c in enumerate(color):\n",
        "        print(f\"Vertex {i}: Color {c}\")\n",
        "    return True\n",
        "\n",
        "if __name__ == \"__main__\":\n",
        "    g = [\n",
        "        [0, 1, 1, 1],\n",
        "        [1, 0, 1, 0],\n",
        "        [1, 1, 0, 1],\n",
        "        [1, 0, 1, 0],\n",
        "    ]\n",
        "    m = 3\n",
        "    graph_coloring_backtracking(g, m)"
      ],
      "metadata": {
        "colab": {
          "base_uri": "https://localhost:8080/"
        },
        "id": "A40KWOCPW4S2",
        "outputId": "0189cace-4e3a-4134-b754-be7d6e552759"
      },
      "execution_count": null,
      "outputs": [
        {
          "output_type": "stream",
          "name": "stdout",
          "text": [
            "Solution exists with 3 colors. The colors assigned are:\n",
            "Vertex 0: Color 1\n",
            "Vertex 1: Color 2\n",
            "Vertex 2: Color 3\n",
            "Vertex 3: Color 2\n"
          ]
        }
      ]
    }
  ]
}